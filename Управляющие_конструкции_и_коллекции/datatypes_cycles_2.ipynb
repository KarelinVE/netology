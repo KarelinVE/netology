{
 "cells": [
  {
   "cell_type": "markdown",
   "metadata": {},
   "source": [
    "**Задание 1**. Дан список с визитами по городам и странам. \n",
    "Напишите код, который возвращает отфильтрованный список geo_logs, содержащий только визиты из России."
   ]
  },
  {
   "cell_type": "code",
   "execution_count": 549,
   "metadata": {},
   "outputs": [
    {
     "name": "stdout",
     "output_type": "stream",
     "text": [
      "[{'visit1': ['Москва', 'Россия']}, {'visit3': ['Владимир', 'Россия']}, {'visit7': ['Тула', 'Россия']}, {'visit8': ['Тула', 'Россия']}, {'visit9': ['Курск', 'Россия']}, {'visit10': ['Архангельск', 'Россия']}]\n"
     ]
    }
   ],
   "source": [
    "geo_logs = [\n",
    "{'visit1': ['Москва', 'Россия']},\n",
    "{'visit2': ['Дели', 'Индия']},\n",
    "{'visit3': ['Владимир', 'Россия']},\n",
    "{'visit4': ['Лиссабон', 'Португалия']},\n",
    "{'visit5': ['Париж', 'Франция']},\n",
    "{'visit6': ['Лиссабон', 'Португалия']},\n",
    "{'visit7': ['Тула', 'Россия']},\n",
    "{'visit8': ['Тула', 'Россия']},\n",
    "{'visit9': ['Курск', 'Россия']},\n",
    "{'visit10': ['Архангельск', 'Россия']}\n",
    "]\n",
    "rs = []\n",
    "for line in geo_logs:\n",
    "     if list(line.values())[0][1] == 'Россия':\n",
    "         rs.append(line)\n",
    "print(rs)"
   ]
  },
  {
   "cell_type": "markdown",
   "metadata": {},
   "source": [
    "**Задание 2**. Выведите на экран все уникальные гео-ID из значений словаря ids. Т. е. список вида [213, 15, 54, 119, 98, 35]"
   ]
  },
  {
   "cell_type": "code",
   "execution_count": 550,
   "metadata": {},
   "outputs": [
    {
     "name": "stdout",
     "output_type": "stream",
     "text": [
      "[98, 35, 15, 213, 54, 119]\n"
     ]
    }
   ],
   "source": [
    "ids = {'user1': [213, 213, 213, 15, 213], \n",
    "       'user2': [54, 54, 119, 119, 119], \n",
    "       'user3': [213, 98, 98, 35]}\n",
    "\n",
    "unique_ids = set()\n",
    "   for el in ids.values():\n",
    "unique_ids = unique_ids.union(el)\n",
    "    print(list(unique_ids))\n"
   ]
  },
  {
   "cell_type": "markdown",
   "metadata": {},
   "source": [
    "**Задание 3**. Дан список поисковых запросов. Получить распределение количества слов в них. \n",
    "Т. е. поисковых запросов из одного - слова 5%, из двух - 7%, из трех - 3% и т.д."
   ]
  },
  {
   "cell_type": "code",
   "execution_count": 551,
   "metadata": {},
   "outputs": [
    {
     "name": "stdout",
     "output_type": "stream",
     "text": [
      "Запросы из 3 слов(-а) составляют 57.14 % запросов\n",
      "Запросы из 2 слов(-а) составляют 42.86 % запросов\n"
     ]
    }
   ],
   "source": [
    "queries = [\n",
    "    'смотреть сериалы онлайн',\n",
    "    'новости спорта',\n",
    "    'афиша кино',\n",
    "    'курс доллара',\n",
    "    'сериалы этим летом',\n",
    "    'курс по питону',\n",
    "    'сериалы про спорт',\n",
    "]\n",
    "qty = len(queries)\n",
    "length = []\n",
    "unique_length = []\n",
    "\n",
    "for line in queries:\n",
    "    qr_len = str(len([word for word in line.split()]))\n",
    "    length.append(qr_len)\n",
    "if qr_len not in unique_length:\n",
    "    unique_length.append(qr_len)\n",
    "for el in length:\n",
    "    res = {el: length.count(el) for el in length}\n",
    "keys = list(res.keys())\n",
    "values = list(res.values())\n",
    "kv = zip (keys, values)\n",
    "for k, v in kv:\n",
    "    print(f'Запросы из {k} слов(-а) составляют {round(v * 100 / qty, 2)} % запросов')"
   ]
  },
  {
   "cell_type": "markdown",
   "metadata": {},
   "source": [
    "**Задание 4**. Дана статистика рекламных каналов по объемам продаж. Напишите скрипт, который возвращает название канала с максимальным объемом.\n",
    "Т. е. в данном примере скрипт должен возвращать 'yandex'."
   ]
  },
  {
   "cell_type": "code",
   "execution_count": 552,
   "metadata": {},
   "outputs": [
    {
     "data": {
      "text/plain": [
       "'yandex'"
      ]
     },
     "execution_count": 552,
     "metadata": {},
     "output_type": "execute_result"
    }
   ],
   "source": [
    "stats = {'facebook': 55, 'yandex': 120, 'vk': 115, 'google': 99, 'email': 42, 'ok': 98}\n",
    "\n",
    "maxstats = 0\n",
    "for pair in stats.items():\n",
    "    if pair[1] > maxstats:\n",
    "        maxstats = pair[1]\n",
    "        channel = pair[0]\n",
    "print(channel)"
   ]
  },
  {
   "cell_type": "markdown",
   "metadata": {},
   "source": [
    "**Задание 5**. Напишите код для преобразования произвольного списка вида ['2018-01-01', 'yandex', 'cpc', 100] (он может быть любой длины) в словарь {'2018-01-01': {'yandex': {'cpc': 100}}}"
   ]
  },
  {
   "cell_type": "code",
   "execution_count": 553,
   "metadata": {
    "scrolled": true
   },
   "outputs": [
    {
     "name": "stdout",
     "output_type": "stream",
     "text": [
      "{'2018-01-01': {'yandex': {'cpc': 100}}}\n"
     ]
    }
   ],
   "source": [
    "lst = ['2018-01-01', 'yandex', 'cpc', 100]\n",
    "value = lst[-1]\n",
    "for el in lst[-2::-1]:\n",
    "    value = {el: value}\n",
    "print(value)"
   ]
  }
 ],
 "metadata": {
  "kernelspec": {
   "display_name": "Python 3",
   "language": "python",
   "name": "python3"
  },
  "language_info": {
   "codemirror_mode": {
    "name": "ipython",
    "version": 3
   },
   "file_extension": ".py",
   "mimetype": "text/x-python",
   "name": "python",
   "nbconvert_exporter": "python",
   "pygments_lexer": "ipython3",
   "version": "3.7.6"
  }
 },
 "nbformat": 4,
 "nbformat_minor": 2
}
