{
 "cells": [
  {
   "cell_type": "markdown",
   "metadata": {},
   "source": [
    "# Основы Python"
   ]
  },
  {
   "cell_type": "markdown",
   "metadata": {},
   "source": [
    "**Задание 1.** Даны 2 строки: long_phrase и short_phrase. Напишите код, который проверяет действительно ли длинная фраза long_phrase длиннее короткой short_phrase. И выводит True или False в зависимости от результата сравнения."
   ]
  },
  {
   "cell_type": "code",
   "execution_count": null,
   "metadata": {},
   "outputs": [],
   "source": [
    "long_phrase = 'Насколько проще было бы писать программы, если бы не заказчики'\n",
    "short_phrase = '640Кб должно хватить для любых задач. Билл Гейтс (по легенде)'\n",
    "\n",
    "len(long_phrase) > len(short_phrase)"
   ]
  },
  {
   "cell_type": "markdown",
   "metadata": {},
   "source": [
    "**Задание 2.** Дано значение объема файла в байтах (в мегабайте 2^20 байт). Напишите перевод этого значения в мегабайты\n",
    "в формате: \"Объем файла равен 213.68Mb\"."
   ]
  },
  {
   "cell_type": "code",
   "execution_count": null,
   "metadata": {},
   "outputs": [],
   "source": [
    "byte = int(input('Объём файла в байтах: '))\n",
    "mb = (round(byte / (2**20), 2))\n",
    "print('Объём файла равен', mb, 'Mb')"
   ]
  },
  {
   "cell_type": "markdown",
   "metadata": {},
   "source": [
    "**Задание 3.** Разработать приложение для определения знака зодиака по дате рождения. Пример:\n",
    "\n",
    "Введите месяц: март\n",
    "\n",
    "Введите число: 6\n",
    "\n",
    "Вывод: Рыбы"
   ]
  },
  {
   "cell_type": "code",
   "execution_count": null,
   "metadata": {},
   "outputs": [],
   "source": [
    "day = int(input('Введите число: '))\n",
    "month = input('Введите месяц: ')\n",
    "if day < 1 or day > 31:\n",
    "    print ('Несуществующий день')\n",
    "else:\n",
    "    if (22 <= day <= 31 and month == 'Декабрь') or (19 >= day >= 1 and month == 'Январь'):\n",
    "        print('Козерог')\n",
    "    elif (20 <= day <= 31 and month == 'Январь') or (19 >= day >= 1 and month == 'Февраль'):\n",
    "        print('Водолей')\n",
    "    elif (20 <= day <= 31 and month == 'Февраль') or (21 >= day >= 1 and month == 'Март'):\n",
    "        print('Рыбы')\n",
    "    elif (22 <= day <= 31 and month == 'Март') or (21 >= day >= 1 and month == 'Апрель'):\n",
    "        print('Овен')\n",
    "    elif (22 <= day <= 31 and month == 'Апрель') or (21 >= day >= 1 and month == 'Май'):\n",
    "        print('Телец')\n",
    "    elif (22 <= day <= 31 and month == 'Май') or (21 >= day >= 1 and month == 'Июнь'):\n",
    "        print('Близнецы')\n",
    "    elif (22 <= day <= 31 and month == 'Июнь') or (21 >= day >= 1 and month == 'Июль'):\n",
    "        print('Рак')\n",
    "    elif (22 <= day <= 31 and month == 'Июль') or (21 >= day >= 1 and month == 'Август'):\n",
    "        print('Лев')\n",
    "    elif (22 <= day <= 31 and month == 'Август') or (21 >= day >= 1 and month == 'Сентябрь'):\n",
    "        print('Дева')\n",
    "    elif (22 <= day <= 31 and month == 'Сентябрь') or (21 >= day >= 1 and month == 'Октябрь'):\n",
    "        print('Весы')\n",
    "    elif (22 <= day <= 31 and month == 'Октябрь') or (20 >= day >= 1 and month == 'Ноябрь'):\n",
    "        print('Скорпион')\n",
    "    elif (21 <= day <= 31 and month == 'Ноябрь') or (21 >= day >= 1 and month == 'Декабрь'):\n",
    "        print('Стрелец')\n",
    "    else:\n",
    "        print('Несуществующий месяц')"
   ]
  },
  {
   "cell_type": "markdown",
   "metadata": {},
   "source": [
    "**Задание 4.** Нужно разработать приложение для финансового планирования. Приложение учитывает сколько уходит на ипотеку, \"на жизнь\" и сколько нужно отложить на пенсию. Пользователь вводит:\n",
    "\n",
    "заработанную плату в месяц.\n",
    "сколько процентов от ЗП уходит на ипотеку.\n",
    "сколько процентов от ЗП уходит \"на жизнь\".\n",
    "сколько раз приходит премия в год.\n",
    "Остальная часть заработанной платы откладывается на пенсию.\n",
    "\n",
    "Также пользователю приходит премия в размере зарплаты, от которой половина уходит на отпуск, а вторая половина откладывается.\n",
    "\n",
    "Программа должна учитывать сколько премий было в год.\n",
    "\n",
    "Нужно вывести сколько денег тратит пользователь на ипотеку и сколько он накопит за год.\n",
    "\n",
    "Пример:\n",
    "\n",
    "Введите заработанную плату в месяц: 100000\n",
    "\n",
    "Введите сколько процентов уходит на ипотеку: 30\n",
    "\n",
    "Введите сколько процентов уходит на жизнь: 50\n",
    "\n",
    "Введите количество премий за год: 2\n",
    "\n",
    "Вывод: На ипотеку было потрачено: 360000 рублей Было накоплено: 340000 рублей"
   ]
  },
  {
   "cell_type": "code",
   "execution_count": null,
   "metadata": {},
   "outputs": [],
   "source": [
    "period = int(input('Введите количество месяцев для расчёта: '))\n",
    "salary = int(input('Введите ежемесячную зарплату: '))\n",
    "mortgage = int(input('Проценты на ипотеку: '))\n",
    "for_life = int(input('Проценты на жизнь: '))\n",
    "bonus = int(input('Количество премий за период: '))\n",
    "bonus_amount = int(input('Сумма одной премии: '))\n",
    "count_mortgage = (salary * mortgage / 100)\n",
    "count_for_life = (salary * for_life / 100)\n",
    "saved_no_bonus = salary - (count_mortgage + count_for_life)\n",
    "saved_bonus = (bonus * bonus_amount / 2)\n",
    "vacation = (bonus * bonus_amount / 2)\n",
    "print('За ', period, 'месяца(-ев) на ипотеку потрачено', count_mortgage * period, 'рублей. Накоплено — ', saved_no_bonus * period + saved_bonus, 'рублей')"
   ]
  }
 ],
 "metadata": {
  "kernelspec": {
   "display_name": "Python 3",
   "language": "python",
   "name": "python3"
  },
  "language_info": {
   "codemirror_mode": {
    "name": "ipython",
    "version": 3
   },
   "file_extension": ".py",
   "mimetype": "text/x-python",
   "name": "python",
   "nbconvert_exporter": "python",
   "pygments_lexer": "ipython3",
   "version": "3.7.6"
  }
 },
 "nbformat": 4,
 "nbformat_minor": 2
}
